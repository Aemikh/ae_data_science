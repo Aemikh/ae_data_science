{
 "cells": [
  {
   "attachments": {},
   "cell_type": "markdown",
   "metadata": {},
   "source": [
    "«Модель прогнозирования стоимости жилья для агентства недвижимости»\n",
    "\n"
   ]
  },
  {
   "attachments": {},
   "cell_type": "markdown",
   "metadata": {},
   "source": [
    "Дипломный проект\n",
    "\n",
    "Data Science"
   ]
  },
  {
   "attachments": {},
   "cell_type": "markdown",
   "metadata": {},
   "source": [
    "Описание данных:\n",
    "\n",
    "'status' — статус продажи;\n",
    "'private pool' и 'PrivatePool' — наличие собственного бассейна;\n",
    "'propertyType' — тип объекта недвижимости;\n",
    "'street' — адрес объекта;\n",
    "'baths' — количество ванных комнат;\n",
    "'homeFacts' — сведения о строительстве объекта (содержит несколько\n",
    "типов сведений, влияющих на оценку объекта);\n",
    "\n",
    "'fireplace' — наличие камина;\n",
    "'city' — город;\n",
    "'schools' — сведения о школах в районе;\n",
    "'sqft' — площадь в футах;\n",
    "'zipcode' — почтовый индекс;\n",
    "'beds' — количество спален;\n",
    "'state' — штат;\n",
    "'stories' — количество этажей;\n",
    "'mls-id' и 'MlsId' — идентификатор MLS (Multiple Listing Service, система\n",
    "мультилистинга);\n",
    "\n",
    "target' — цена объекта недвижимости (целевой признак, который\n",
    "необходимо спрогнозировать)."
   ]
  },
  {
   "cell_type": "code",
   "execution_count": 302,
   "metadata": {},
   "outputs": [],
   "source": [
    "import numpy as np\n",
    "import pandas as pd\n",
    "import re\n",
    "from geopy.geocoders import Nominatim\n",
    "from fake_useragent import UserAgent\n",
    "from geopy.exc import GeocoderTimedOut, GeocoderUnavailable\n",
    "from geopy.exc import GeocoderServiceError"
   ]
  },
  {
   "attachments": {},
   "cell_type": "markdown",
   "metadata": {},
   "source": [
    "Предварительный просмотр"
   ]
  },
  {
   "cell_type": "code",
   "execution_count": 303,
   "metadata": {},
   "outputs": [
    {
     "data": {
      "text/html": [
       "<div>\n",
       "<style scoped>\n",
       "    .dataframe tbody tr th:only-of-type {\n",
       "        vertical-align: middle;\n",
       "    }\n",
       "\n",
       "    .dataframe tbody tr th {\n",
       "        vertical-align: top;\n",
       "    }\n",
       "\n",
       "    .dataframe thead th {\n",
       "        text-align: right;\n",
       "    }\n",
       "</style>\n",
       "<table border=\"1\" class=\"dataframe\">\n",
       "  <thead>\n",
       "    <tr style=\"text-align: right;\">\n",
       "      <th></th>\n",
       "      <th>status</th>\n",
       "      <th>private pool</th>\n",
       "      <th>propertyType</th>\n",
       "      <th>street</th>\n",
       "      <th>baths</th>\n",
       "      <th>homeFacts</th>\n",
       "      <th>fireplace</th>\n",
       "      <th>city</th>\n",
       "      <th>schools</th>\n",
       "      <th>sqft</th>\n",
       "      <th>zipcode</th>\n",
       "      <th>beds</th>\n",
       "      <th>state</th>\n",
       "      <th>stories</th>\n",
       "      <th>mls-id</th>\n",
       "      <th>PrivatePool</th>\n",
       "      <th>MlsId</th>\n",
       "      <th>target</th>\n",
       "    </tr>\n",
       "  </thead>\n",
       "  <tbody>\n",
       "    <tr>\n",
       "      <th>0</th>\n",
       "      <td>Active</td>\n",
       "      <td>NaN</td>\n",
       "      <td>Single Family Home</td>\n",
       "      <td>240 Heather Ln</td>\n",
       "      <td>3.5</td>\n",
       "      <td>{'atAGlanceFacts': [{'factValue': '2019', 'fac...</td>\n",
       "      <td>Gas Logs</td>\n",
       "      <td>Southern Pines</td>\n",
       "      <td>[{'rating': ['4', '4', '7', 'NR', '4', '7', 'N...</td>\n",
       "      <td>2900</td>\n",
       "      <td>28387</td>\n",
       "      <td>4</td>\n",
       "      <td>NC</td>\n",
       "      <td>NaN</td>\n",
       "      <td>NaN</td>\n",
       "      <td>NaN</td>\n",
       "      <td>611019</td>\n",
       "      <td>$418,000</td>\n",
       "    </tr>\n",
       "    <tr>\n",
       "      <th>1</th>\n",
       "      <td>for sale</td>\n",
       "      <td>NaN</td>\n",
       "      <td>single-family home</td>\n",
       "      <td>12911 E Heroy Ave</td>\n",
       "      <td>3 Baths</td>\n",
       "      <td>{'atAGlanceFacts': [{'factValue': '2019', 'fac...</td>\n",
       "      <td>NaN</td>\n",
       "      <td>Spokane Valley</td>\n",
       "      <td>[{'rating': ['4/10', 'None/10', '4/10'], 'data...</td>\n",
       "      <td>1,947 sqft</td>\n",
       "      <td>99216</td>\n",
       "      <td>3 Beds</td>\n",
       "      <td>WA</td>\n",
       "      <td>2.0</td>\n",
       "      <td>NaN</td>\n",
       "      <td>NaN</td>\n",
       "      <td>201916904</td>\n",
       "      <td>$310,000</td>\n",
       "    </tr>\n",
       "    <tr>\n",
       "      <th>2</th>\n",
       "      <td>for sale</td>\n",
       "      <td>NaN</td>\n",
       "      <td>single-family home</td>\n",
       "      <td>2005 Westridge Rd</td>\n",
       "      <td>2 Baths</td>\n",
       "      <td>{'atAGlanceFacts': [{'factValue': '1961', 'fac...</td>\n",
       "      <td>yes</td>\n",
       "      <td>Los Angeles</td>\n",
       "      <td>[{'rating': ['8/10', '4/10', '8/10'], 'data': ...</td>\n",
       "      <td>3,000 sqft</td>\n",
       "      <td>90049</td>\n",
       "      <td>3 Beds</td>\n",
       "      <td>CA</td>\n",
       "      <td>1.0</td>\n",
       "      <td>NaN</td>\n",
       "      <td>yes</td>\n",
       "      <td>FR19221027</td>\n",
       "      <td>$2,895,000</td>\n",
       "    </tr>\n",
       "    <tr>\n",
       "      <th>3</th>\n",
       "      <td>for sale</td>\n",
       "      <td>NaN</td>\n",
       "      <td>single-family home</td>\n",
       "      <td>4311 Livingston Ave</td>\n",
       "      <td>8 Baths</td>\n",
       "      <td>{'atAGlanceFacts': [{'factValue': '2006', 'fac...</td>\n",
       "      <td>yes</td>\n",
       "      <td>Dallas</td>\n",
       "      <td>[{'rating': ['9/10', '9/10', '10/10', '9/10'],...</td>\n",
       "      <td>6,457 sqft</td>\n",
       "      <td>75205</td>\n",
       "      <td>5 Beds</td>\n",
       "      <td>TX</td>\n",
       "      <td>3.0</td>\n",
       "      <td>NaN</td>\n",
       "      <td>NaN</td>\n",
       "      <td>14191809</td>\n",
       "      <td>$2,395,000</td>\n",
       "    </tr>\n",
       "    <tr>\n",
       "      <th>4</th>\n",
       "      <td>for sale</td>\n",
       "      <td>NaN</td>\n",
       "      <td>lot/land</td>\n",
       "      <td>1524 Kiscoe St</td>\n",
       "      <td>NaN</td>\n",
       "      <td>{'atAGlanceFacts': [{'factValue': '', 'factLab...</td>\n",
       "      <td>NaN</td>\n",
       "      <td>Palm Bay</td>\n",
       "      <td>[{'rating': ['4/10', '5/10', '5/10'], 'data': ...</td>\n",
       "      <td>NaN</td>\n",
       "      <td>32908</td>\n",
       "      <td>NaN</td>\n",
       "      <td>FL</td>\n",
       "      <td>NaN</td>\n",
       "      <td>NaN</td>\n",
       "      <td>NaN</td>\n",
       "      <td>861745</td>\n",
       "      <td>$5,000</td>\n",
       "    </tr>\n",
       "  </tbody>\n",
       "</table>\n",
       "</div>"
      ],
      "text/plain": [
       "     status private pool        propertyType               street    baths  \\\n",
       "0    Active          NaN  Single Family Home       240 Heather Ln      3.5   \n",
       "1  for sale          NaN  single-family home    12911 E Heroy Ave  3 Baths   \n",
       "2  for sale          NaN  single-family home    2005 Westridge Rd  2 Baths   \n",
       "3  for sale          NaN  single-family home  4311 Livingston Ave  8 Baths   \n",
       "4  for sale          NaN            lot/land       1524 Kiscoe St      NaN   \n",
       "\n",
       "                                           homeFacts fireplace  \\\n",
       "0  {'atAGlanceFacts': [{'factValue': '2019', 'fac...  Gas Logs   \n",
       "1  {'atAGlanceFacts': [{'factValue': '2019', 'fac...       NaN   \n",
       "2  {'atAGlanceFacts': [{'factValue': '1961', 'fac...       yes   \n",
       "3  {'atAGlanceFacts': [{'factValue': '2006', 'fac...       yes   \n",
       "4  {'atAGlanceFacts': [{'factValue': '', 'factLab...       NaN   \n",
       "\n",
       "             city                                            schools  \\\n",
       "0  Southern Pines  [{'rating': ['4', '4', '7', 'NR', '4', '7', 'N...   \n",
       "1  Spokane Valley  [{'rating': ['4/10', 'None/10', '4/10'], 'data...   \n",
       "2     Los Angeles  [{'rating': ['8/10', '4/10', '8/10'], 'data': ...   \n",
       "3          Dallas  [{'rating': ['9/10', '9/10', '10/10', '9/10'],...   \n",
       "4        Palm Bay  [{'rating': ['4/10', '5/10', '5/10'], 'data': ...   \n",
       "\n",
       "         sqft zipcode    beds state stories mls-id PrivatePool       MlsId  \\\n",
       "0        2900   28387       4    NC     NaN    NaN         NaN      611019   \n",
       "1  1,947 sqft   99216  3 Beds    WA     2.0    NaN         NaN   201916904   \n",
       "2  3,000 sqft   90049  3 Beds    CA     1.0    NaN         yes  FR19221027   \n",
       "3  6,457 sqft   75205  5 Beds    TX     3.0    NaN         NaN    14191809   \n",
       "4         NaN   32908     NaN    FL     NaN    NaN         NaN      861745   \n",
       "\n",
       "       target  \n",
       "0    $418,000  \n",
       "1    $310,000  \n",
       "2  $2,895,000  \n",
       "3  $2,395,000  \n",
       "4      $5,000  "
      ]
     },
     "metadata": {},
     "output_type": "display_data"
    },
    {
     "name": "stdout",
     "output_type": "stream",
     "text": [
      "<class 'pandas.core.frame.DataFrame'>\n",
      "RangeIndex: 377185 entries, 0 to 377184\n",
      "Data columns (total 18 columns):\n",
      " #   Column        Non-Null Count   Dtype \n",
      "---  ------        --------------   ----- \n",
      " 0   status        337267 non-null  object\n",
      " 1   private pool  4181 non-null    object\n",
      " 2   propertyType  342452 non-null  object\n",
      " 3   street        377183 non-null  object\n",
      " 4   baths         270847 non-null  object\n",
      " 5   homeFacts     377185 non-null  object\n",
      " 6   fireplace     103115 non-null  object\n",
      " 7   city          377151 non-null  object\n",
      " 8   schools       377185 non-null  object\n",
      " 9   sqft          336608 non-null  object\n",
      " 10  zipcode       377185 non-null  object\n",
      " 11  beds          285903 non-null  object\n",
      " 12  state         377185 non-null  object\n",
      " 13  stories       226470 non-null  object\n",
      " 14  mls-id        24942 non-null   object\n",
      " 15  PrivatePool   40311 non-null   object\n",
      " 16  MlsId         310305 non-null  object\n",
      " 17  target        374704 non-null  object\n",
      "dtypes: object(18)\n",
      "memory usage: 51.8+ MB\n"
     ]
    }
   ],
   "source": [
    "df = pd.read_csv('data/data.csv')\n",
    "display(df.head())\n",
    "df.info()"
   ]
  },
  {
   "attachments": {},
   "cell_type": "markdown",
   "metadata": {},
   "source": [
    "Пропуски"
   ]
  },
  {
   "cell_type": "code",
   "execution_count": 304,
   "metadata": {},
   "outputs": [],
   "source": [
    "missing_data = df.isnull().sum()"
   ]
  },
  {
   "cell_type": "code",
   "execution_count": 305,
   "metadata": {},
   "outputs": [
    {
     "name": "stdout",
     "output_type": "stream",
     "text": [
      "status: 39918 пропусков (10.58%)\n",
      "private pool: 373004 пропусков (98.89%)\n",
      "propertyType: 34733 пропусков (9.21%)\n",
      "street: 2 пропусков (0.00%)\n",
      "baths: 106338 пропусков (28.19%)\n",
      "fireplace: 274070 пропусков (72.66%)\n",
      "city: 34 пропусков (0.01%)\n",
      "sqft: 40577 пропусков (10.76%)\n",
      "beds: 91282 пропусков (24.20%)\n",
      "stories: 150715 пропусков (39.96%)\n",
      "mls-id: 352243 пропусков (93.39%)\n",
      "PrivatePool: 336874 пропусков (89.31%)\n",
      "MlsId: 66880 пропусков (17.73%)\n",
      "target: 2481 пропусков (0.66%)\n"
     ]
    }
   ],
   "source": [
    "for column_name, missing_count in missing_data.items():\n",
    "    if missing_count > 0:\n",
    "        percentage = (missing_count / len(df)) * 100\n",
    "        print(f'{column_name}: {missing_count} пропусков ({percentage:.2f}%)')"
   ]
  },
  {
   "attachments": {},
   "cell_type": "markdown",
   "metadata": {},
   "source": [
    "Явные дубликаты"
   ]
  },
  {
   "cell_type": "code",
   "execution_count": 306,
   "metadata": {},
   "outputs": [
    {
     "name": "stdout",
     "output_type": "stream",
     "text": [
      "Удалено 50 дубликатов\n"
     ]
    }
   ],
   "source": [
    "\n",
    "rows_before = df.shape[0] #удалим дубликаты\n",
    "df = df.drop_duplicates(ignore_index=True)\n",
    "rows_after = df.shape[0]\n",
    "duplicates_removed = rows_before - rows_after\n",
    "print(f'Удалено {duplicates_removed} дубликатов')"
   ]
  },
  {
   "attachments": {},
   "cell_type": "markdown",
   "metadata": {},
   "source": [
    "Дополнительные дубликты"
   ]
  },
  {
   "cell_type": "code",
   "execution_count": 307,
   "metadata": {},
   "outputs": [
    {
     "name": "stdout",
     "output_type": "stream",
     "text": [
      "[nan 'Yes']\n",
      "[nan 'yes' 'Yes']\n"
     ]
    }
   ],
   "source": [
    "print(df['private pool'].unique())\n",
    "print(df['PrivatePool'].unique())"
   ]
  },
  {
   "cell_type": "code",
   "execution_count": 308,
   "metadata": {},
   "outputs": [
    {
     "name": "stdout",
     "output_type": "stream",
     "text": [
      "Удалено 91 дубликатов\n"
     ]
    }
   ],
   "source": [
    "\n",
    "df['pool_encoded'] = df['private pool'].combine_first(df['PrivatePool'])\n",
    "df = df.drop(['PrivatePool', 'private pool', 'MlsId', 'mls-id'], axis=1)\n",
    "df['pool_encoded'] = df['pool_encoded'].fillna(False)\n",
    "df['pool_encoded'] = df['pool_encoded'].replace(['yes', 'Yes'], True)\n",
    "rows_before = df.shape[0] #удалим дубликаты\n",
    "df = df.drop_duplicates(ignore_index=True)\n",
    "rows_after = df.shape[0]\n",
    "duplicates_removed = rows_before - rows_after\n",
    "print(f'Удалено {duplicates_removed} дубликатов')"
   ]
  },
  {
   "attachments": {},
   "cell_type": "markdown",
   "metadata": {},
   "source": [
    "Признак homeFacts"
   ]
  },
  {
   "cell_type": "code",
   "execution_count": 309,
   "metadata": {},
   "outputs": [
    {
     "name": "stdout",
     "output_type": "stream",
     "text": [
      "Пропущенные значения: 0\n",
      "Пропущенные значения: 0.00%\n",
      "Уникальные значения: 321009\n",
      "Уникальные значения: [\"{'atAGlanceFacts': [{'factValue': '2019', 'factLabel': 'Year built'}, {'factValue': '', 'factLabel': 'Remodeled year'}, {'factValue': 'Central A/C, Heat Pump', 'factLabel': 'Heating'}, {'factValue': '', 'factLabel': 'Cooling'}, {'factValue': '', 'factLabel': 'Parking'}, {'factValue': None, 'factLabel': 'lotsize'}, {'factValue': '$144', 'factLabel': 'Price/sqft'}]}\"]\n"
     ]
    }
   ],
   "source": [
    "missing_values_count = df.homeFacts.isna().sum()\n",
    "total_count = len(df)\n",
    "missing_values_percentage = (missing_values_count / total_count) * 100\n",
    "\n",
    "print(f\"Пропущенные значения: {missing_values_count}\\n\"\n",
    "f\"Пропущенные значения: {missing_values_percentage:.2f}%\\n\"\n",
    "f\"Уникальные значения: {df.homeFacts.nunique()}\\n\"\n",
    "f\"Уникальные значения: {list(df.homeFacts.unique()[:1])}\")"
   ]
  },
  {
   "cell_type": "code",
   "execution_count": 310,
   "metadata": {},
   "outputs": [
    {
     "data": {
      "text/plain": [
       "[\"'Year built'\",\n",
       " \"'Remodeled year'\",\n",
       " \"'Heating'\",\n",
       " \"'Cooling'\",\n",
       " \"'Parking'\",\n",
       " \"'lotsize'\",\n",
       " \"'Price/sqft'\"]"
      ]
     },
     "execution_count": 310,
     "metadata": {},
     "output_type": "execute_result"
    }
   ],
   "source": [
    "label = df.homeFacts.str.findall(r\"\\bfactLabel': ([\\s\\S]+?)[}\\b]\")\n",
    "label[100]"
   ]
  },
  {
   "cell_type": "code",
   "execution_count": 311,
   "metadata": {},
   "outputs": [
    {
     "data": {
      "text/plain": [
       "0    ['2019', '', 'Central A/C, Heat Pump', '', '',...\n",
       "1    ['2019', '', '', '', '', '5828 sqft', '$159/sq...\n",
       "2    ['1961', '1967', 'Forced Air', 'Central', 'Att...\n",
       "3    ['2006', '2006', 'Forced Air', 'Central', 'Det...\n",
       "4            ['', '', '', '', '', '10,019 sqft', None]\n",
       "5    ['1920', '', 'Forced Air', 'Central', '', '680...\n",
       "6    ['2006', '2006', 'Electric, Heat Pump', 'Centr...\n",
       "7    ['1976', '', '', '', '', '8,750 Sq. Ft.', '$57...\n",
       "8    ['1970', '', 'Forced Air', 'Central', '', '124...\n",
       "9    ['2019', None, 'Gas', 'Central', 'Attached Gar...\n",
       "Name: homeFacts, dtype: object"
      ]
     },
     "execution_count": 311,
     "metadata": {},
     "output_type": "execute_result"
    }
   ],
   "source": [
    "Value = df.homeFacts.str.findall(r\"\\bfactValue': ([\\s\\S]+?), 'factLabel\\b\")\n",
    "Value[:10]"
   ]
  },
  {
   "cell_type": "code",
   "execution_count": 312,
   "metadata": {},
   "outputs": [
    {
     "data": {
      "text/plain": [
       "['Year built',\n",
       " 'Remodeled year',\n",
       " 'Heating',\n",
       " 'Cooling',\n",
       " 'Parking',\n",
       " 'lotsize',\n",
       " 'Price/sqft']"
      ]
     },
     "execution_count": 312,
     "metadata": {},
     "output_type": "execute_result"
    }
   ],
   "source": [
    "list_label = ','.join(label[0]).replace(\"'\",\"\").split(',')\n",
    "list_label"
   ]
  },
  {
   "cell_type": "code",
   "execution_count": 313,
   "metadata": {},
   "outputs": [],
   "source": [
    "for i, val in enumerate(list_label):\n",
    "    df[val]=Value.apply(lambda x: x[i])"
   ]
  },
  {
   "cell_type": "code",
   "execution_count": 314,
   "metadata": {},
   "outputs": [],
   "source": [
    "# удаляем признак homeFacts \n",
    "df = df.drop('homeFacts', axis=1)"
   ]
  },
  {
   "attachments": {},
   "cell_type": "markdown",
   "metadata": {},
   "source": [
    " Признак propertyType"
   ]
  },
  {
   "cell_type": "code",
   "execution_count": 315,
   "metadata": {},
   "outputs": [
    {
     "name": "stdout",
     "output_type": "stream",
     "text": [
      "Пропущенные значения: 34725\n",
      "Пропущенные значения: 9.21%\n",
      "Уникальные значения: 1280\n",
      "Уникальные значения: ['Single Family Home', 'single-family home', 'lot/land', 'townhouse', 'Florida', nan, 'Single Family', 'coop', 'English', '2 Story']\n"
     ]
    }
   ],
   "source": [
    "missing_values_count = df.propertyType.isna().sum()\n",
    "total_count = len(df)\n",
    "missing_values_percentage = (missing_values_count / total_count) * 100\n",
    "\n",
    "print(f\"Пропущенные значения: {missing_values_count}\\n\"\n",
    "      f\"Пропущенные значения: {missing_values_percentage:.2f}%\\n\"\n",
    "      f\"Уникальные значения: {df.propertyType.nunique()}\\n\"\n",
    "      f\"Уникальные значения: {list(df.propertyType.unique()[:10])}\")"
   ]
  },
  {
   "cell_type": "code",
   "execution_count": 317,
   "metadata": {},
   "outputs": [
    {
     "name": "stdout",
     "output_type": "stream",
     "text": [
      "Пропущенные значения: 34725\n",
      "Пропущенные значения: 9.21%\n",
      "Уникальные значения: 1272\n",
      "Уникальные значения: ['single family home', 'single-family home', 'lot/land', 'townhouse', 'florida', nan, 'single family', 'coop', 'english', '2 story']\n"
     ]
    }
   ],
   "source": [
    "df.propertyType = df.propertyType.str.lower()\n",
    "missing_values_count = df.propertyType.isna().sum()\n",
    "total_count = len(df)\n",
    "missing_values_percentage = (missing_values_count / total_count) * 100\n",
    "\n",
    "print(f\"Пропущенные значения: {missing_values_count}\\n\"\n",
    "      f\"Пропущенные значения: {missing_values_percentage:.2f}%\\n\"\n",
    "      f\"Уникальные значения: {df.propertyType.nunique()}\\n\"\n",
    "      f\"Уникальные значения: {list(df.propertyType.unique()[:10])}\")"
   ]
  },
  {
   "cell_type": "code",
   "execution_count": 318,
   "metadata": {},
   "outputs": [],
   "source": [
    "df.propertyType = df.propertyType \\\n",
    ".str.replace('single-family home','single family') \\\n",
    ".str.replace('single family home','single family') \\\n",
    ".str.replace('yes','Other') \\\n",
    ".str.replace('unknown','Other')\n",
    "df['Type'] = df['propertyType'].str.split(',').str[0]"
   ]
  },
  {
   "cell_type": "code",
   "execution_count": 319,
   "metadata": {},
   "outputs": [
    {
     "name": "stdout",
     "output_type": "stream",
     "text": [
      "Пропущенные значения: 34725\n",
      "Пропущенные значения: 9.21%\n",
      "Уникальные значения: 256\n",
      "Уникальные значения: ['single family', 'lot/land', 'townhouse', 'florida', nan, 'coop', 'english', '2 story', 'multi-family', 'penthouse']\n"
     ]
    }
   ],
   "source": [
    "missing_values_count = df.Type.isna().sum()\n",
    "total_count = len(df)\n",
    "missing_values_percentage = (missing_values_count / total_count) * 100\n",
    "\n",
    "print(f\"Пропущенные значения: {missing_values_count}\\n\"\n",
    "      f\"Пропущенные значения: {missing_values_percentage:.2f}%\\n\"\n",
    "      f\"Уникальные значения: {df.Type.nunique()}\\n\"\n",
    "      f\"Уникальные значения: {list(df.Type.unique()[:10])}\")"
   ]
  },
  {
   "cell_type": "code",
   "execution_count": 320,
   "metadata": {},
   "outputs": [],
   "source": [
    "synonyms_mapping = {\n",
    "    'single_family_home': [\n",
    "        'single family', '1 story', '2 story', 'detached', '1 story/ranch', '1 story traditional', 'single detached', 'singlefamilyresidence', 'single wide', 'single-wide mobile with land',\n",
    "        'two story', 'one story', 'one level unit', 'rancher', '1 1/2 story', 'single wide mh', 'one story traditional'],\n",
    "    'multi_family_home': [\n",
    "        'multi-family', 'multi-family home', 'duplex', 'triplex', 'fourplex', 'multi_level', 'multi family', '2 unit condo', '2-story'],\n",
    "    'condo': [\n",
    "        'condo', 'coop', 'cooperative', 'condo/townhome/row home/co-op', 'condo/townhome', 'condominium', 'condo/unit', 'apartment/condo/townhouse', 'co-op', '2 story condo', 'high rise'],\n",
    "    'townhouse': [\n",
    "        'townhouse', 'townhome style', 'townhouse-interior', 'townhouse-end unit'],\n",
    "    'apartment': [\n",
    "        'apartment', 'condominium (single level)', 'high-rise', 'mid-rise', 'low-rise (1-3 stories)', 'Flats', 'studio'],\n",
    "    'land': [\n",
    "        'lot/land', 'land'],\n",
    "    'mobile_home': [\n",
    "        'mobile/manufactured', 'mobile / manufactured', 'manufactured house', 'mfd/mobile home', 'mobile home', 'manufactured home', 'manufactured double-wide', 'manufactured single-wide', 'mobile home 1 story', 'mobile manu - double wide'],\n",
    "    'miscellaneous': [\n",
    "        'miscellaneous'],\n",
    "    'ranch': [\n",
    "        'ranch', 'one story'],\n",
    "    'modern': [\n",
    "        'contemporary', 'contemporary/modern', \"modern\", 'mid-century modern', 'modern farmhouse', 'modernist'],\n",
    "    'historical': [\n",
    "        'historical', 'designated historical home', 'historical/conservation district', 'historic/older', 'historic vintage', 'historic'],\n",
    "    'other': [\n",
    "        'Other', 'english', 'urban contemporary', 'other style', 'florida', 'farms/ranches', 'carriage house', 'country english', 'straight thru', 'less than 4 floors', 'bungalow', 'custom', 'arts & crafts', 'tudor', 'new build 2019', 'split foyer', 'cottage', 'cottage/camp', 'garden home', 'farm/ranch', 'farm/ranch house', 'farm house', 'hi ranch', 'attached duplex', 'farmhouse', 'houseboat', 'ground floor', 'victorian', '3 story', '3+ stories', 'santa barbara/tuscan', 'old style', 'modular/prefab', 'post and beam', 'manuf/mobile', 'multiple occupancy', 'attached', 'hawaiian plantation', 'forest garden home', '1 1/2 story with basement', 'split-entry', 'texas hill country', 'lake house', '1 story with basement', 'hi-rise', 'coastal beach home', 'historical', 'key west/coastal', 'loft/balcony', 'english manor', 'mid-rise (4-7 stories)', 'mid-level', 'new englander', 'residential (<1 acre)', 'ranch','residential (1+ acre)', 'split', 'split level', 'split (4 level)', 'split (5+ level)', 'urban', 'patio', 'patio home', 'penthouse', 'manor', 'victorian/federal', 'coastal', 'coastal contemporary', 'coastal ii', 'coastal modern', 'coastal two story', 'mountain contemporary', 'key west', 'high ranch', 'end unit']\n",
    "}\n",
    "\n",
    "\n",
    "def replace_synonyms(value):\n",
    "    for key, synonym_values in synonyms_mapping.items():\n",
    "        if value in synonym_values:\n",
    "            return key\n",
    "    return \"other\""
   ]
  },
  {
   "cell_type": "code",
   "execution_count": 321,
   "metadata": {},
   "outputs": [
    {
     "name": "stdout",
     "output_type": "stream",
     "text": [
      "Пропущенные значения: 0\n",
      "Пропущенные значения: 0.00%\n",
      "Уникальные значения: 12\n",
      "Уникальные значения: ['single_family_home', 'land', 'townhouse', 'other', 'condo', 'multi_family_home', 'mobile_home', 'apartment', 'modern', 'miscellaneous']\n"
     ]
    }
   ],
   "source": [
    "df['Type'] = df['Type'].apply(replace_synonyms)\n",
    "missing_values_count = df.Type.isna().sum()\n",
    "total_count = len(df)\n",
    "missing_values_percentage = (missing_values_count / total_count) * 100\n",
    "\n",
    "print(f\"Пропущенные значения: {missing_values_count}\\n\"\n",
    "      f\"Пропущенные значения: {missing_values_percentage:.2f}%\\n\"\n",
    "      f\"Уникальные значения: {df.Type.nunique()}\\n\"\n",
    "      f\"Уникальные значения: {list(df.Type.unique()[:10])}\")"
   ]
  },
  {
   "cell_type": "code",
   "execution_count": 322,
   "metadata": {},
   "outputs": [],
   "source": [
    "# удаляем propertyType \n",
    "df.drop('propertyType', axis=1, inplace=True)"
   ]
  },
  {
   "cell_type": "code",
   "execution_count": 323,
   "metadata": {},
   "outputs": [],
   "source": [
    "df1=df.copy()"
   ]
  },
  {
   "attachments": {},
   "cell_type": "markdown",
   "metadata": {},
   "source": [
    "Признак Remodeled year"
   ]
  },
  {
   "cell_type": "code",
   "execution_count": 324,
   "metadata": {},
   "outputs": [
    {
     "data": {
      "text/plain": [
       "array(['1738', '1800', '1845', '1846', '1853', '1862', '1869', '1870',\n",
       "       '1874', '1876'], dtype=object)"
      ]
     },
     "metadata": {},
     "output_type": "display_data"
    }
   ],
   "source": [
    "df1['Remodeled year'] = df1['Remodeled year'].str.replace(\"'\",'', regex=True)\n",
    "mask= df1['Remodeled year'].isin(['', '0', '1111'])\n",
    "df1.loc[mask,'Remodeled year'] = 'None' #уникальные значения\n",
    "display(df1['Remodeled year'].sort_values().unique()[:10])"
   ]
  },
  {
   "cell_type": "code",
   "execution_count": 325,
   "metadata": {},
   "outputs": [
    {
     "name": "stdout",
     "output_type": "stream",
     "text": [
      "Пропущенные значения: 0\n",
      "Пропущенные значения: 0.00%\n",
      "Уникальные значения: 152\n",
      "Уникальные значения: ['1738', '1800', '1845', '1846', '1853', '1862', '1869', '1870', '1874', '1876']\n"
     ]
    }
   ],
   "source": [
    "missing_values_count = df1['Remodeled year'].isna().sum()\n",
    "total_count = len(df1)\n",
    "missing_values_percentage = (missing_values_count / total_count) * 100\n",
    "\n",
    "print(f\"Пропущенные значения: {missing_values_count}\\n\"\n",
    "f\"Пропущенные значения: {missing_values_percentage:.2f}%\\n\"\n",
    "f\"Уникальные значения: {df1['Remodeled year'].nunique()}\\n\"\n",
    "f\"Уникальные значения: {list(df1['Remodeled year'].sort_values().unique()[:10])}\")"
   ]
  },
  {
   "cell_type": "code",
   "execution_count": 326,
   "metadata": {},
   "outputs": [
    {
     "name": "stdout",
     "output_type": "stream",
     "text": [
      "Процент None: 60.0%\n",
      "Количество None: 226242\n"
     ]
    }
   ],
   "source": [
    "#None\n",
    "print(f\"Процент None: {round(df1[df1['Remodeled year']=='None'].shape[0]/df.shape[0]*100, 2)}%\")\n",
    "print(f\"Количество None: {df1.loc[df1['Remodeled year']=='None', 'Remodeled year'].count()}\")"
   ]
  },
  {
   "cell_type": "code",
   "execution_count": 327,
   "metadata": {},
   "outputs": [],
   "source": [
    "# удаляем 'Remodeled year'\n",
    "df1 = df1.drop('Remodeled year', axis=1)"
   ]
  },
  {
   "attachments": {},
   "cell_type": "markdown",
   "metadata": {},
   "source": [
    "признак Cooling"
   ]
  },
  {
   "cell_type": "code",
   "execution_count": 328,
   "metadata": {},
   "outputs": [
    {
     "data": {
      "text/plain": [
       "'central'             158742\n",
       "''                    120308\n",
       "'central air'          14384\n",
       "'no data'              10615\n",
       "'has cooling'           9730\n",
       "'none'                  7390\n",
       "'central electric'      6154\n",
       "'wall'                  4017\n",
       "'central gas'           3573\n",
       "none                    3533\n",
       "Name: Cooling, dtype: int64"
      ]
     },
     "execution_count": 328,
     "metadata": {},
     "output_type": "execute_result"
    }
   ],
   "source": [
    "df1['Cooling'].str.lower().value_counts().head(10)"
   ]
  },
  {
   "cell_type": "code",
   "execution_count": 329,
   "metadata": {},
   "outputs": [],
   "source": [
    "df1['Cooling'] = df1['Cooling'].str.replace(\"'\",'', regex=True)\n",
    "df1['Cooling_encoded'] = df1['Cooling'].apply(lambda x: True if x not in ['', 'no data', 'None', 'none'] else False)"
   ]
  },
  {
   "cell_type": "code",
   "execution_count": 330,
   "metadata": {},
   "outputs": [],
   "source": [
    "# удаляем признак 'Cooling'\n",
    "df1= df1.drop('Cooling', axis=1)"
   ]
  },
  {
   "attachments": {},
   "cell_type": "markdown",
   "metadata": {},
   "source": [
    "Признак Heating"
   ]
  },
  {
   "cell_type": "code",
   "execution_count": 331,
   "metadata": {},
   "outputs": [
    {
     "data": {
      "text/plain": [
       "'forced air'          134307\n",
       "''                    105672\n",
       "'other'                29622\n",
       "'electric'             10216\n",
       "'gas'                   9295\n",
       "'heat pump'             8851\n",
       "'no data'               8610\n",
       "'central air'           7814\n",
       "'central electric'      7112\n",
       "'central'               6247\n",
       "Name: Heating, dtype: int64"
      ]
     },
     "metadata": {},
     "output_type": "display_data"
    }
   ],
   "source": [
    "display(df1['Heating'].str.lower().value_counts().head(10))"
   ]
  },
  {
   "cell_type": "code",
   "execution_count": 332,
   "metadata": {},
   "outputs": [],
   "source": [
    "df1['Heating'] = df1['Heating'].str.replace(\"'\",'', regex=True)\n",
    "df1['Heating_encoded'] = df1['Heating'].apply(lambda x: True if x not in ['', 'no data', 'None', 'none'] else False)"
   ]
  },
  {
   "cell_type": "code",
   "execution_count": 333,
   "metadata": {},
   "outputs": [
    {
     "name": "stdout",
     "output_type": "stream",
     "text": [
      "Пропущенные значения: 0\n",
      "Пропущенные значения:: 0.00%\n",
      "Уникальные значения: 2\n",
      "Уникальные значения: [False, True]\n"
     ]
    }
   ],
   "source": [
    "missing_values_count = df1['Heating_encoded'].isna().sum()\n",
    "total_count = len(df1)\n",
    "missing_values_percentage = (missing_values_count / total_count) * 100\n",
    "\n",
    "print(f\"Пропущенные значения: {missing_values_count}\\n\"\n",
    "f\"Пропущенные значения:: {missing_values_percentage:.2f}%\\n\"\n",
    "f\"Уникальные значения: {df1['Heating_encoded'].nunique()}\\n\"\n",
    "f\"Уникальные значения: {list(df1['Heating_encoded'].sort_values().unique())}\")"
   ]
  },
  {
   "cell_type": "code",
   "execution_count": 334,
   "metadata": {},
   "outputs": [],
   "source": [
    "# удаляем признак 'Heating'\n",
    "df1= df1.drop('Heating', axis=1)"
   ]
  },
  {
   "attachments": {},
   "cell_type": "markdown",
   "metadata": {},
   "source": [
    "Признак city"
   ]
  },
  {
   "cell_type": "code",
   "execution_count": 335,
   "metadata": {},
   "outputs": [
    {
     "name": "stdout",
     "output_type": "stream",
     "text": [
      "Пропущенные значения: 32\n",
      "Пропущенные значения: 0.01%\n",
      "Уникальные значения: 1909\n",
      "Уникальные значения: [' ', '--', 'Abilene', 'Abingdon', 'Accokeek', 'Adams', 'Addison', 'Adel', 'Adelphi', 'Advance']\n"
     ]
    }
   ],
   "source": [
    "df1['city'] = df1['city'].str.title()\n",
    "missing_values_count = df1['city'].isna().sum()\n",
    "total_count = len(df1)\n",
    "missing_values_percentage = (missing_values_count / total_count) * 100\n",
    "\n",
    "print(f\"Пропущенные значения: {missing_values_count}\\n\"\n",
    "f\"Пропущенные значения: {missing_values_percentage:.2f}%\\n\"\n",
    "f\"Уникальные значения: {df1['city'].nunique()}\\n\"\n",
    "f\"Уникальные значения: {list(df1['city'].sort_values().unique()[:10])}\")"
   ]
  },
  {
   "cell_type": "code",
   "execution_count": 336,
   "metadata": {},
   "outputs": [
    {
     "data": {
      "text/plain": [
       "             25\n",
       "--            9\n",
       "abilene     134\n",
       "abingdon    116\n",
       "accokeek      3\n",
       "adams         5\n",
       "addison      25\n",
       "adel         13\n",
       "adelphi       6\n",
       "advance       3\n",
       "Name: city, dtype: int64"
      ]
     },
     "execution_count": 336,
     "metadata": {},
     "output_type": "execute_result"
    }
   ],
   "source": [
    "df1['city'].str.lower().value_counts().sort_index().head(10)"
   ]
  },
  {
   "cell_type": "code",
   "execution_count": 337,
   "metadata": {},
   "outputs": [
    {
     "name": "stdout",
     "output_type": "stream",
     "text": [
      "Удаленные строки: 66\n"
     ]
    }
   ],
   "source": [
    "\n",
    "df1['city'] = df1['city'].str.replace(' City', '') \n",
    "initial_row_count = df1.shape[0]\n",
    "df1 = df1[~df1['city'].isin([' ', '--', np.nan])]\n",
    "removed_row_count = initial_row_count - df1.shape[0]\n",
    "print(f\"Удаленные строки: {removed_row_count}\")\n"
   ]
  },
  {
   "cell_type": "code",
   "execution_count": 338,
   "metadata": {},
   "outputs": [
    {
     "name": "stdout",
     "output_type": "stream",
     "text": [
      "Пропущенные значения: 0\n",
      "Пропущенные значения: 0.00%\n",
      "Уникальные значения: 1897\n",
      "Уникальные значения: ['Abilene', 'Abingdon', 'Accokeek', 'Adams', 'Addison', 'Adel', 'Adelphi', 'Advance', 'Akron', 'Alamo Heights']\n"
     ]
    }
   ],
   "source": [
    "missing_values_count = df1['city'].isna().sum()\n",
    "total_count = len(df1)\n",
    "missing_values_percentage = (missing_values_count / total_count) * 100\n",
    "\n",
    "print(f\"Пропущенные значения: {missing_values_count}\\n\"\n",
    "f\"Пропущенные значения: {missing_values_percentage:.2f}%\\n\"\n",
    "f\"Уникальные значения: {df1['city'].nunique()}\\n\"\n",
    "f\"Уникальные значения: {list(df1['city'].sort_values().unique()[:10])}\")"
   ]
  },
  {
   "attachments": {},
   "cell_type": "markdown",
   "metadata": {},
   "source": [
    "Признак sqft"
   ]
  },
  {
   "cell_type": "code",
   "execution_count": 339,
   "metadata": {},
   "outputs": [
    {
     "name": "stdout",
     "output_type": "stream",
     "text": [
      "Пропущенные значения: 40517\n",
      "Пропущенные значения: 10.75%\n",
      "Уникальные значения: 25396\n",
      "Уникальные значения: ['--', '-- sqft', '0', '1', '1 sqft', '1,000', '1,000 sqft', '1,001', '1,001 sqft', '1,002']\n"
     ]
    }
   ],
   "source": [
    "missing_values_count = df1['sqft'].isna().sum()\n",
    "total_count = len(df1)\n",
    "missing_values_percentage = (missing_values_count / total_count) * 100\n",
    "\n",
    "print(f\"Пропущенные значения: {missing_values_count}\\n\"\n",
    "f\"Пропущенные значения: {missing_values_percentage:.2f}%\\n\"\n",
    "f\"Уникальные значения: {df1['sqft'].nunique()}\\n\"\n",
    "f\"Уникальные значения: {list(df1['sqft'].sort_values().unique()[:10])}\")"
   ]
  },
  {
   "cell_type": "code",
   "execution_count": 340,
   "metadata": {},
   "outputs": [],
   "source": [
    "s_sqft = df1.sqft[df1.sqft.notna()]\n",
    "s_sqft = s_sqft.str.findall(r\"\\d+\")\n",
    "s_sqft = s_sqft.apply(lambda x: ''.join(x))\n",
    "df1.loc[df1.sqft.notna(), 'sqft']=s_sqft\n",
    "df1.sqft = df1.sqft.fillna(0)\n",
    "df1.loc[df1.sqft=='','sqft']=0\n",
    "df1.sqft = df1.sqft.astype(int)"
   ]
  },
  {
   "cell_type": "code",
   "execution_count": 341,
   "metadata": {},
   "outputs": [
    {
     "name": "stdout",
     "output_type": "stream",
     "text": [
      "Выбранные строки: 46146\n",
      "Выбранные строки: 12.24%\n"
     ]
    }
   ],
   "source": [
    "selected_rows = df1[(df1['sqft'] == 0) & ((df1['Type'] == 'other') | (df1['Type'] == 'land') | (df1['Type'] == 'ranch'))]\n",
    "percent_selected = len(selected_rows) / len(df1) * 100\n",
    "# Выводим полученные строки и процент выбранных строк\n",
    "print(f\"Выбранные строки: {len(selected_rows)}\")\n",
    "print(f\"Выбранные строки: {percent_selected:.2f}%\")"
   ]
  },
  {
   "cell_type": "code",
   "execution_count": 342,
   "metadata": {},
   "outputs": [
    {
     "name": "stdout",
     "output_type": "stream",
     "text": [
      "Выбранные строки: 6981\n",
      "Выбранные строки: 1.85%\n"
     ]
    }
   ],
   "source": [
    "selected_rows = df1[(df1['sqft'] == 0) & ~(df1['Type'].isin(['other', 'land', 'ranch']))]\n",
    "unique_statuses = selected_rows['Type'].unique()\n",
    "# Выводим полученные строки и процент выбранных строк\n",
    "percent_selected = len(selected_rows) / len(df1) * 100\n",
    "print(f\"Выбранные строки: {len(selected_rows)}\")\n",
    "print(f\"Выбранные строки: {percent_selected:.2f}%\")"
   ]
  },
  {
   "attachments": {},
   "cell_type": "markdown",
   "metadata": {},
   "source": [
    "Признак zipcode"
   ]
  },
  {
   "cell_type": "code",
   "execution_count": 343,
   "metadata": {},
   "outputs": [],
   "source": [
    "df2=df1.copy()"
   ]
  },
  {
   "cell_type": "code",
   "execution_count": 344,
   "metadata": {},
   "outputs": [
    {
     "name": "stdout",
     "output_type": "stream",
     "text": [
      "Пропущенные значения: 0\n",
      "Пропущенные значения: 0.00%\n",
      "Уникальные значения: 4549\n",
      "Уникальные значения: ['--', '0', '00000', '02108', '02109', '02110', '02111', '02113', '02114', '02115']\n"
     ]
    }
   ],
   "source": [
    "missing_values_count = df2['zipcode'].isna().sum()\n",
    "total_count = len(df2)\n",
    "missing_values_percentage = (missing_values_count / total_count) * 100\n",
    "\n",
    "print(f\"Пропущенные значения: {missing_values_count}\\n\"\n",
    "f\"Пропущенные значения: {missing_values_percentage:.2f}%\\n\"\n",
    "f\"Уникальные значения: {df2['zipcode'].nunique()}\\n\"\n",
    "f\"Уникальные значения: {list(df2['zipcode'].sort_values().unique()[:10])}\")"
   ]
  },
  {
   "cell_type": "code",
   "execution_count": 345,
   "metadata": {},
   "outputs": [
    {
     "data": {
      "text/html": [
       "<div>\n",
       "<style scoped>\n",
       "    .dataframe tbody tr th:only-of-type {\n",
       "        vertical-align: middle;\n",
       "    }\n",
       "\n",
       "    .dataframe tbody tr th {\n",
       "        vertical-align: top;\n",
       "    }\n",
       "\n",
       "    .dataframe thead th {\n",
       "        text-align: right;\n",
       "    }\n",
       "</style>\n",
       "<table border=\"1\" class=\"dataframe\">\n",
       "  <thead>\n",
       "    <tr style=\"text-align: right;\">\n",
       "      <th></th>\n",
       "      <th>status</th>\n",
       "      <th>street</th>\n",
       "      <th>baths</th>\n",
       "      <th>fireplace</th>\n",
       "      <th>city</th>\n",
       "      <th>schools</th>\n",
       "      <th>sqft</th>\n",
       "      <th>zipcode</th>\n",
       "      <th>beds</th>\n",
       "      <th>state</th>\n",
       "      <th>stories</th>\n",
       "      <th>target</th>\n",
       "      <th>pool_encoded</th>\n",
       "      <th>Year built</th>\n",
       "      <th>Parking</th>\n",
       "      <th>lotsize</th>\n",
       "      <th>Price/sqft</th>\n",
       "      <th>Type</th>\n",
       "      <th>Cooling_encoded</th>\n",
       "      <th>Heating_encoded</th>\n",
       "    </tr>\n",
       "  </thead>\n",
       "  <tbody>\n",
       "    <tr>\n",
       "      <th>30258</th>\n",
       "      <td>Active</td>\n",
       "      <td>Gates Canyon Rd</td>\n",
       "      <td>NaN</td>\n",
       "      <td>NaN</td>\n",
       "      <td>Vacaville</td>\n",
       "      <td>[{'rating': ['7', '4', '6', '6', '10', '2'], '...</td>\n",
       "      <td>0</td>\n",
       "      <td>0</td>\n",
       "      <td>NaN</td>\n",
       "      <td>CA</td>\n",
       "      <td>NaN</td>\n",
       "      <td>$380,000</td>\n",
       "      <td>False</td>\n",
       "      <td>''</td>\n",
       "      <td>''</td>\n",
       "      <td>'222156'</td>\n",
       "      <td>None</td>\n",
       "      <td>land</td>\n",
       "      <td>False</td>\n",
       "      <td>False</td>\n",
       "    </tr>\n",
       "    <tr>\n",
       "      <th>83514</th>\n",
       "      <td>New</td>\n",
       "      <td>Cornejo Ricardo Descalzi</td>\n",
       "      <td>NaN</td>\n",
       "      <td>NaN</td>\n",
       "      <td>Quito Ecuador</td>\n",
       "      <td>[{'rating': [], 'data': {'Distance': [], 'Grad...</td>\n",
       "      <td>0</td>\n",
       "      <td>0</td>\n",
       "      <td>NaN</td>\n",
       "      <td>NY</td>\n",
       "      <td>NaN</td>\n",
       "      <td>470,000</td>\n",
       "      <td>False</td>\n",
       "      <td>'1995'</td>\n",
       "      <td>''</td>\n",
       "      <td>'—'</td>\n",
       "      <td>None</td>\n",
       "      <td>other</td>\n",
       "      <td>True</td>\n",
       "      <td>False</td>\n",
       "    </tr>\n",
       "    <tr>\n",
       "      <th>231230</th>\n",
       "      <td>New construction</td>\n",
       "      <td>0 N Gopher Canyon Rd</td>\n",
       "      <td>NaN</td>\n",
       "      <td>NaN</td>\n",
       "      <td>Bonsall</td>\n",
       "      <td>[{'rating': ['7/10', '7/10', '3/10'], 'data': ...</td>\n",
       "      <td>0</td>\n",
       "      <td>--</td>\n",
       "      <td>449 acres</td>\n",
       "      <td>CA</td>\n",
       "      <td>NaN</td>\n",
       "      <td>$60,000,000</td>\n",
       "      <td>False</td>\n",
       "      <td>''</td>\n",
       "      <td>''</td>\n",
       "      <td>''</td>\n",
       "      <td>''</td>\n",
       "      <td>other</td>\n",
       "      <td>False</td>\n",
       "      <td>False</td>\n",
       "    </tr>\n",
       "    <tr>\n",
       "      <th>235154</th>\n",
       "      <td>NaN</td>\n",
       "      <td>1744 N Dixie Hwy # 1744</td>\n",
       "      <td>3.0</td>\n",
       "      <td>NaN</td>\n",
       "      <td>Fort Lauderdale</td>\n",
       "      <td>[{'rating': ['3/10', '5/10', '7/10'], 'data': ...</td>\n",
       "      <td>2043</td>\n",
       "      <td>--</td>\n",
       "      <td>3</td>\n",
       "      <td>FL</td>\n",
       "      <td>NaN</td>\n",
       "      <td>$425,000</td>\n",
       "      <td>False</td>\n",
       "      <td>'2010'</td>\n",
       "      <td>'No Data'</td>\n",
       "      <td>'No Data'</td>\n",
       "      <td>'$208'</td>\n",
       "      <td>townhouse</td>\n",
       "      <td>True</td>\n",
       "      <td>True</td>\n",
       "    </tr>\n",
       "    <tr>\n",
       "      <th>305481</th>\n",
       "      <td>for sale</td>\n",
       "      <td>000 U.S. Hwy 359</td>\n",
       "      <td>NaN</td>\n",
       "      <td>NaN</td>\n",
       "      <td>Laredo</td>\n",
       "      <td>[{'rating': ['4/10'], 'data': {'Distance': ['7...</td>\n",
       "      <td>243849</td>\n",
       "      <td>0</td>\n",
       "      <td>NaN</td>\n",
       "      <td>TX</td>\n",
       "      <td>NaN</td>\n",
       "      <td>$1,740,000</td>\n",
       "      <td>False</td>\n",
       "      <td>''</td>\n",
       "      <td>''</td>\n",
       "      <td>'58.00 acres'</td>\n",
       "      <td>'$7/sqft'</td>\n",
       "      <td>land</td>\n",
       "      <td>False</td>\n",
       "      <td>False</td>\n",
       "    </tr>\n",
       "    <tr>\n",
       "      <th>308135</th>\n",
       "      <td>Active</td>\n",
       "      <td>435 pescador</td>\n",
       "      <td>NaN</td>\n",
       "      <td>NaN</td>\n",
       "      <td>Foreign Country</td>\n",
       "      <td>[{'rating': [], 'data': {'Distance': [], 'Grad...</td>\n",
       "      <td>1100</td>\n",
       "      <td>00000</td>\n",
       "      <td>NaN</td>\n",
       "      <td>OS</td>\n",
       "      <td>NaN</td>\n",
       "      <td>125,000</td>\n",
       "      <td>False</td>\n",
       "      <td>'1972'</td>\n",
       "      <td>''</td>\n",
       "      <td>'—'</td>\n",
       "      <td>'$114 / Sq. Ft.'</td>\n",
       "      <td>other</td>\n",
       "      <td>False</td>\n",
       "      <td>False</td>\n",
       "    </tr>\n",
       "  </tbody>\n",
       "</table>\n",
       "</div>"
      ],
      "text/plain": [
       "                  status                     street baths fireplace  \\\n",
       "30258             Active            Gates Canyon Rd   NaN       NaN   \n",
       "83514                New  Cornejo Ricardo Descalzi    NaN       NaN   \n",
       "231230  New construction       0 N Gopher Canyon Rd   NaN       NaN   \n",
       "235154               NaN    1744 N Dixie Hwy # 1744   3.0       NaN   \n",
       "305481          for sale           000 U.S. Hwy 359   NaN       NaN   \n",
       "308135            Active              435 pescador    NaN       NaN   \n",
       "\n",
       "                   city                                            schools  \\\n",
       "30258         Vacaville  [{'rating': ['7', '4', '6', '6', '10', '2'], '...   \n",
       "83514     Quito Ecuador  [{'rating': [], 'data': {'Distance': [], 'Grad...   \n",
       "231230          Bonsall  [{'rating': ['7/10', '7/10', '3/10'], 'data': ...   \n",
       "235154  Fort Lauderdale  [{'rating': ['3/10', '5/10', '7/10'], 'data': ...   \n",
       "305481           Laredo  [{'rating': ['4/10'], 'data': {'Distance': ['7...   \n",
       "308135  Foreign Country  [{'rating': [], 'data': {'Distance': [], 'Grad...   \n",
       "\n",
       "          sqft zipcode       beds state stories       target  pool_encoded  \\\n",
       "30258        0       0        NaN    CA     NaN     $380,000         False   \n",
       "83514        0       0        NaN    NY     NaN      470,000         False   \n",
       "231230       0      --  449 acres    CA     NaN  $60,000,000         False   \n",
       "235154    2043      --          3    FL     NaN     $425,000         False   \n",
       "305481  243849       0        NaN    TX     NaN   $1,740,000         False   \n",
       "308135    1100   00000        NaN    OS     NaN      125,000         False   \n",
       "\n",
       "       Year built    Parking        lotsize        Price/sqft       Type  \\\n",
       "30258          ''         ''       '222156'              None       land   \n",
       "83514      '1995'         ''            '—'              None      other   \n",
       "231230         ''         ''             ''                ''      other   \n",
       "235154     '2010'  'No Data'      'No Data'            '$208'  townhouse   \n",
       "305481         ''         ''  '58.00 acres'         '$7/sqft'       land   \n",
       "308135     '1972'         ''            '—'  '$114 / Sq. Ft.'      other   \n",
       "\n",
       "        Cooling_encoded  Heating_encoded  \n",
       "30258             False            False  \n",
       "83514              True            False  \n",
       "231230            False            False  \n",
       "235154             True             True  \n",
       "305481            False            False  \n",
       "308135            False            False  "
      ]
     },
     "execution_count": 345,
     "metadata": {},
     "output_type": "execute_result"
    }
   ],
   "source": [
    "df2[(df2['zipcode']=='--') | (df2['zipcode']=='0')| (df2['zipcode']=='00000') ]"
   ]
  },
  {
   "cell_type": "code",
   "execution_count": 346,
   "metadata": {},
   "outputs": [
    {
     "data": {
      "text/plain": [
       "array(['02108', '02109', '02110', '02111', '02113', '02114', '02115',\n",
       "       '02116', '02118', '02119'], dtype=object)"
      ]
     },
     "execution_count": 346,
     "metadata": {},
     "output_type": "execute_result"
    }
   ],
   "source": [
    "indexes_to_drop = df2[(df2['zipcode']=='--') | (df2['zipcode']=='0')| (df2['zipcode']=='00000')].index\n",
    "df2 = df2.drop(indexes_to_drop)\n",
    "df2.zipcode.sort_values().unique()[:10]"
   ]
  },
  {
   "cell_type": "code",
   "execution_count": 347,
   "metadata": {},
   "outputs": [
    {
     "data": {
      "text/plain": [
       "array(['02108', '02109', '02110', '02111', '02113', '02114', '02115',\n",
       "       '02116', '02118', '02119'], dtype=object)"
      ]
     },
     "execution_count": 347,
     "metadata": {},
     "output_type": "execute_result"
    }
   ],
   "source": [
    "df2.zipcode = df2.zipcode.str.replace(\"-.+\",'', regex=True)\n",
    "df2.zipcode.sort_values().unique()[:10]"
   ]
  },
  {
   "attachments": {},
   "cell_type": "markdown",
   "metadata": {},
   "source": [
    "Признак beds"
   ]
  },
  {
   "cell_type": "code",
   "execution_count": 348,
   "metadata": {},
   "outputs": [
    {
     "name": "stdout",
     "output_type": "stream",
     "text": [
      "Пропущенные значения: 91156\n",
      "Пропущенные значения: 24.18%\n",
      "Уникальные значения: 1181\n",
      "Уникальные значения: [' ', '# Bedrooms 1st Floor', '-- bd', '-- sqft', '0', '0.0', '0.25 acres', '0.26 acres', '0.27 acres', '0.28 acres']\n"
     ]
    }
   ],
   "source": [
    "missing_values_count = df2['beds'].isna().sum()\n",
    "total_count = len(df2)\n",
    "missing_values_percentage = (missing_values_count / total_count) * 100\n",
    "\n",
    "print(f\"Пропущенные значения: {missing_values_count}\\n\"\n",
    "f\"Пропущенные значения: {missing_values_percentage:.2f}%\\n\"\n",
    "f\"Уникальные значения: {df2['beds'].nunique()}\\n\"\n",
    "f\"Уникальные значения: {list(df2['beds'].sort_values().unique()[:10])}\")"
   ]
  },
  {
   "cell_type": "code",
   "execution_count": 349,
   "metadata": {},
   "outputs": [],
   "source": [
    "# удаляем признак Beds\n",
    "df2 = df2.drop('beds', axis=1)"
   ]
  },
  {
   "attachments": {},
   "cell_type": "markdown",
   "metadata": {},
   "source": [
    "Признак stories"
   ]
  },
  {
   "cell_type": "code",
   "execution_count": 350,
   "metadata": {},
   "outputs": [
    {
     "name": "stdout",
     "output_type": "stream",
     "text": [
      "Пропущенные значения: 150516\n",
      "Пропущенные значения: 39.93%\n",
      "Уникальные значения: 347\n",
      "Уникальные значения: [', 1', ', 2', ', 3', '0', '0.0', '1', '1 1/2 Levels', '1 1/2 Story', '1 Level', '1 Level, 1.5 Level']\n"
     ]
    }
   ],
   "source": [
    "missing_values_count = df2['stories'].isna().sum()\n",
    "total_count = len(df2)\n",
    "missing_values_percentage = (missing_values_count / total_count) * 100\n",
    "\n",
    "print(f\"Пропущенные значения: {missing_values_count}\\n\"\n",
    "f\"Пропущенные значения: {missing_values_percentage:.2f}%\\n\"\n",
    "f\"Уникальные значения: {df2['stories'].nunique()}\\n\"\n",
    "f\"Уникальные значения: {list(df2['stories'].sort_values().unique()[:10])}\")"
   ]
  },
  {
   "cell_type": "code",
   "execution_count": 351,
   "metadata": {},
   "outputs": [
    {
     "data": {
      "text/plain": [
       "single_family_home    46300\n",
       "other                 36999\n",
       "land                  28817\n",
       "condo                 24355\n",
       "multi_family_home      5212\n",
       "townhouse              3937\n",
       "mobile_home            1499\n",
       "ranch                  1389\n",
       "modern                 1129\n",
       "apartment               824\n",
       "historical               44\n",
       "miscellaneous            11\n",
       "Name: Type, dtype: int64"
      ]
     },
     "execution_count": 351,
     "metadata": {},
     "output_type": "execute_result"
    }
   ],
   "source": [
    "df2[df2.stories.isna()].Type.value_counts()"
   ]
  },
  {
   "cell_type": "code",
   "execution_count": 352,
   "metadata": {},
   "outputs": [],
   "source": [
    "# удаляем признак Beds\n",
    "df2 = df2.drop('stories', axis=1)"
   ]
  },
  {
   "attachments": {},
   "cell_type": "markdown",
   "metadata": {},
   "source": [
    "Признак Target"
   ]
  },
  {
   "cell_type": "code",
   "execution_count": 353,
   "metadata": {},
   "outputs": [
    {
     "name": "stdout",
     "output_type": "stream",
     "text": [
      "Пропущенные значения: 2475\n",
      "Пропущенные значения: 0.66%\n",
      "Уникальные значения: 43937\n",
      "Уникальные значения: ['$1', '$1,000', '$1,000,000', '$1,000,000+', '$1,000,036', '$1,000,050', '$1,000,100', '$1,000,898', '$1,000/mo', '$1,001,713']\n"
     ]
    }
   ],
   "source": [
    "missing_values_count = df2['target'].isna().sum()\n",
    "total_count = len(df2)\n",
    "missing_values_percentage = (missing_values_count / total_count) * 100\n",
    "\n",
    "print(f\"Пропущенные значения: {missing_values_count}\\n\"\n",
    "f\"Пропущенные значения: {missing_values_percentage:.2f}%\\n\"\n",
    "f\"Уникальные значения: {df2['target'].nunique()}\\n\"\n",
    "f\"Уникальные значения: {list(df2['target'].sort_values().unique()[:10])}\")"
   ]
  },
  {
   "cell_type": "code",
   "execution_count": 354,
   "metadata": {},
   "outputs": [
    {
     "data": {
      "text/html": [
       "<div>\n",
       "<style scoped>\n",
       "    .dataframe tbody tr th:only-of-type {\n",
       "        vertical-align: middle;\n",
       "    }\n",
       "\n",
       "    .dataframe tbody tr th {\n",
       "        vertical-align: top;\n",
       "    }\n",
       "\n",
       "    .dataframe thead th {\n",
       "        text-align: right;\n",
       "    }\n",
       "</style>\n",
       "<table border=\"1\" class=\"dataframe\">\n",
       "  <thead>\n",
       "    <tr style=\"text-align: right;\">\n",
       "      <th></th>\n",
       "      <th>status</th>\n",
       "      <th>street</th>\n",
       "      <th>baths</th>\n",
       "      <th>fireplace</th>\n",
       "      <th>city</th>\n",
       "      <th>schools</th>\n",
       "      <th>sqft</th>\n",
       "      <th>zipcode</th>\n",
       "      <th>state</th>\n",
       "      <th>target</th>\n",
       "      <th>pool_encoded</th>\n",
       "      <th>Year built</th>\n",
       "      <th>Parking</th>\n",
       "      <th>lotsize</th>\n",
       "      <th>Price/sqft</th>\n",
       "      <th>Type</th>\n",
       "      <th>Cooling_encoded</th>\n",
       "      <th>Heating_encoded</th>\n",
       "    </tr>\n",
       "  </thead>\n",
       "  <tbody>\n",
       "    <tr>\n",
       "      <th>15533</th>\n",
       "      <td>Active</td>\n",
       "      <td>1230 Old Dickerson Rd</td>\n",
       "      <td>2</td>\n",
       "      <td>NaN</td>\n",
       "      <td>Goodlettsville</td>\n",
       "      <td>[{'rating': ['3', '2', '3', '3', '2', '1', 'NR...</td>\n",
       "      <td>1596</td>\n",
       "      <td>37072</td>\n",
       "      <td>TN</td>\n",
       "      <td>1</td>\n",
       "      <td>False</td>\n",
       "      <td>'1940'</td>\n",
       "      <td>'Detached, ASPHT'</td>\n",
       "      <td>'87120'</td>\n",
       "      <td>'No Info'</td>\n",
       "      <td>single_family_home</td>\n",
       "      <td>False</td>\n",
       "      <td>True</td>\n",
       "    </tr>\n",
       "    <tr>\n",
       "      <th>25334</th>\n",
       "      <td>NaN</td>\n",
       "      <td>3205 N High School Rd</td>\n",
       "      <td>1.0</td>\n",
       "      <td>Yes</td>\n",
       "      <td>Indianapolis</td>\n",
       "      <td>[{'rating': ['2/10', 'NA', '1/10'], 'data': {'...</td>\n",
       "      <td>1586</td>\n",
       "      <td>46224</td>\n",
       "      <td>IN</td>\n",
       "      <td>1</td>\n",
       "      <td>False</td>\n",
       "      <td>'1957'</td>\n",
       "      <td>'Detached Garage'</td>\n",
       "      <td>'0.54 acres'</td>\n",
       "      <td>None</td>\n",
       "      <td>single_family_home</td>\n",
       "      <td>True</td>\n",
       "      <td>True</td>\n",
       "    </tr>\n",
       "    <tr>\n",
       "      <th>84943</th>\n",
       "      <td>foreclosure</td>\n",
       "      <td>7804 Hamilton Ave</td>\n",
       "      <td>NaN</td>\n",
       "      <td>yes</td>\n",
       "      <td>Cincinnati</td>\n",
       "      <td>[{'rating': ['2/10'], 'data': {'Distance': ['0...</td>\n",
       "      <td>2536</td>\n",
       "      <td>45231</td>\n",
       "      <td>OH</td>\n",
       "      <td>1</td>\n",
       "      <td>False</td>\n",
       "      <td>'1865'</td>\n",
       "      <td>'Detached Garage'</td>\n",
       "      <td>'0.31 acres'</td>\n",
       "      <td>'$0/sqft'</td>\n",
       "      <td>land</td>\n",
       "      <td>True</td>\n",
       "      <td>False</td>\n",
       "    </tr>\n",
       "    <tr>\n",
       "      <th>148219</th>\n",
       "      <td>Active</td>\n",
       "      <td>Cummings St</td>\n",
       "      <td>NaN</td>\n",
       "      <td>NaN</td>\n",
       "      <td>Huntley</td>\n",
       "      <td>[{'rating': [], 'data': {'Distance': [], 'Grad...</td>\n",
       "      <td>0</td>\n",
       "      <td>60142</td>\n",
       "      <td>IL</td>\n",
       "      <td>1</td>\n",
       "      <td>False</td>\n",
       "      <td>''</td>\n",
       "      <td>''</td>\n",
       "      <td>'1558141'</td>\n",
       "      <td>None</td>\n",
       "      <td>land</td>\n",
       "      <td>False</td>\n",
       "      <td>False</td>\n",
       "    </tr>\n",
       "    <tr>\n",
       "      <th>205315</th>\n",
       "      <td>Active</td>\n",
       "      <td>Route 47 Hwy</td>\n",
       "      <td>NaN</td>\n",
       "      <td>NaN</td>\n",
       "      <td>Huntley</td>\n",
       "      <td>[{'rating': ['8', '9', '8', '7', '7', 'NR'], '...</td>\n",
       "      <td>0</td>\n",
       "      <td>60142</td>\n",
       "      <td>IL</td>\n",
       "      <td>1</td>\n",
       "      <td>False</td>\n",
       "      <td>''</td>\n",
       "      <td>''</td>\n",
       "      <td>'671260'</td>\n",
       "      <td>None</td>\n",
       "      <td>land</td>\n",
       "      <td>False</td>\n",
       "      <td>False</td>\n",
       "    </tr>\n",
       "  </tbody>\n",
       "</table>\n",
       "</div>"
      ],
      "text/plain": [
       "             status                 street baths fireplace            city  \\\n",
       "15533        Active  1230 Old Dickerson Rd     2       NaN  Goodlettsville   \n",
       "25334           NaN  3205 N High School Rd   1.0       Yes    Indianapolis   \n",
       "84943   foreclosure      7804 Hamilton Ave   NaN       yes      Cincinnati   \n",
       "148219       Active            Cummings St   NaN       NaN         Huntley   \n",
       "205315       Active           Route 47 Hwy   NaN       NaN         Huntley   \n",
       "\n",
       "                                                  schools  sqft zipcode state  \\\n",
       "15533   [{'rating': ['3', '2', '3', '3', '2', '1', 'NR...  1596   37072    TN   \n",
       "25334   [{'rating': ['2/10', 'NA', '1/10'], 'data': {'...  1586   46224    IN   \n",
       "84943   [{'rating': ['2/10'], 'data': {'Distance': ['0...  2536   45231    OH   \n",
       "148219  [{'rating': [], 'data': {'Distance': [], 'Grad...     0   60142    IL   \n",
       "205315  [{'rating': ['8', '9', '8', '7', '7', 'NR'], '...     0   60142    IL   \n",
       "\n",
       "        target  pool_encoded Year built            Parking       lotsize  \\\n",
       "15533        1         False     '1940'  'Detached, ASPHT'       '87120'   \n",
       "25334        1         False     '1957'  'Detached Garage'  '0.54 acres'   \n",
       "84943        1         False     '1865'  'Detached Garage'  '0.31 acres'   \n",
       "148219       1         False         ''                 ''     '1558141'   \n",
       "205315       1         False         ''                 ''      '671260'   \n",
       "\n",
       "       Price/sqft                Type  Cooling_encoded  Heating_encoded  \n",
       "15533   'No Info'  single_family_home            False             True  \n",
       "25334        None  single_family_home             True             True  \n",
       "84943   '$0/sqft'                land             True            False  \n",
       "148219       None                land            False            False  \n",
       "205315       None                land            False            False  "
      ]
     },
     "metadata": {},
     "output_type": "display_data"
    },
    {
     "data": {
      "text/html": [
       "<div>\n",
       "<style scoped>\n",
       "    .dataframe tbody tr th:only-of-type {\n",
       "        vertical-align: middle;\n",
       "    }\n",
       "\n",
       "    .dataframe tbody tr th {\n",
       "        vertical-align: top;\n",
       "    }\n",
       "\n",
       "    .dataframe thead th {\n",
       "        text-align: right;\n",
       "    }\n",
       "</style>\n",
       "<table border=\"1\" class=\"dataframe\">\n",
       "  <thead>\n",
       "    <tr style=\"text-align: right;\">\n",
       "      <th></th>\n",
       "      <th>status</th>\n",
       "      <th>street</th>\n",
       "      <th>baths</th>\n",
       "      <th>fireplace</th>\n",
       "      <th>city</th>\n",
       "      <th>schools</th>\n",
       "      <th>sqft</th>\n",
       "      <th>zipcode</th>\n",
       "      <th>state</th>\n",
       "      <th>target</th>\n",
       "      <th>pool_encoded</th>\n",
       "      <th>Year built</th>\n",
       "      <th>Parking</th>\n",
       "      <th>lotsize</th>\n",
       "      <th>Price/sqft</th>\n",
       "      <th>Type</th>\n",
       "      <th>Cooling_encoded</th>\n",
       "      <th>Heating_encoded</th>\n",
       "    </tr>\n",
       "  </thead>\n",
       "  <tbody>\n",
       "    <tr>\n",
       "      <th>132407</th>\n",
       "      <td>For sale</td>\n",
       "      <td>875 Nimes Rd</td>\n",
       "      <td>18.0</td>\n",
       "      <td>Yes</td>\n",
       "      <td>Los Angeles</td>\n",
       "      <td>[{'rating': ['10/10', '7/10'], 'data': {'Dista...</td>\n",
       "      <td>0</td>\n",
       "      <td>90077</td>\n",
       "      <td>CA</td>\n",
       "      <td>195000000</td>\n",
       "      <td>True</td>\n",
       "      <td>'1935'</td>\n",
       "      <td>'40 spaces'</td>\n",
       "      <td>'6.49 acres'</td>\n",
       "      <td>'No Data'</td>\n",
       "      <td>single_family_home</td>\n",
       "      <td>True</td>\n",
       "      <td>True</td>\n",
       "    </tr>\n",
       "  </tbody>\n",
       "</table>\n",
       "</div>"
      ],
      "text/plain": [
       "          status        street baths fireplace         city  \\\n",
       "132407  For sale  875 Nimes Rd  18.0       Yes  Los Angeles   \n",
       "\n",
       "                                                  schools  sqft zipcode state  \\\n",
       "132407  [{'rating': ['10/10', '7/10'], 'data': {'Dista...     0   90077    CA   \n",
       "\n",
       "           target  pool_encoded Year built      Parking       lotsize  \\\n",
       "132407  195000000          True     '1935'  '40 spaces'  '6.49 acres'   \n",
       "\n",
       "       Price/sqft                Type  Cooling_encoded  Heating_encoded  \n",
       "132407  'No Data'  single_family_home             True             True  "
      ]
     },
     "metadata": {},
     "output_type": "display_data"
    }
   ],
   "source": [
    "df2 = df2.dropna(subset=['target'])\n",
    "df2.loc[:,'target'] = df2.loc[:,'target'].str.replace('[^0-9]','',regex=True)\n",
    "df2.target = df2.target.astype(int)\n",
    "display(df2[df2['target'] == df2['target']. min ()].head())\n",
    "display(df2[df2['target'] == df2['target']. max ()].head())"
   ]
  },
  {
   "cell_type": "code",
   "execution_count": 355,
   "metadata": {},
   "outputs": [
    {
     "name": "stdout",
     "output_type": "stream",
     "text": [
      "Количество строк: 91\n",
      "Процент строк: 0.02%\n"
     ]
    }
   ],
   "source": [
    "count = len(df2[df2['target'] < 900])\n",
    "percentage = count / len(df2) * 100\n",
    "print(f\"Количество строк: {count}\")\n",
    "print(f\"Процент строк: {percentage:.2f}%\")"
   ]
  },
  {
   "cell_type": "code",
   "execution_count": 356,
   "metadata": {},
   "outputs": [],
   "source": [
    "df2 = df2.drop(df2[df2['target'] < 900].index)"
   ]
  },
  {
   "cell_type": "code",
   "execution_count": 357,
   "metadata": {},
   "outputs": [
    {
     "data": {
      "text/html": [
       "<div>\n",
       "<style scoped>\n",
       "    .dataframe tbody tr th:only-of-type {\n",
       "        vertical-align: middle;\n",
       "    }\n",
       "\n",
       "    .dataframe tbody tr th {\n",
       "        vertical-align: top;\n",
       "    }\n",
       "\n",
       "    .dataframe thead th {\n",
       "        text-align: right;\n",
       "    }\n",
       "</style>\n",
       "<table border=\"1\" class=\"dataframe\">\n",
       "  <thead>\n",
       "    <tr style=\"text-align: right;\">\n",
       "      <th></th>\n",
       "      <th>status</th>\n",
       "      <th>street</th>\n",
       "      <th>baths</th>\n",
       "      <th>fireplace</th>\n",
       "      <th>city</th>\n",
       "      <th>schools</th>\n",
       "      <th>sqft</th>\n",
       "      <th>zipcode</th>\n",
       "      <th>state</th>\n",
       "      <th>target</th>\n",
       "      <th>pool_encoded</th>\n",
       "      <th>Year built</th>\n",
       "      <th>Parking</th>\n",
       "      <th>lotsize</th>\n",
       "      <th>Price/sqft</th>\n",
       "      <th>Type</th>\n",
       "      <th>Cooling_encoded</th>\n",
       "      <th>Heating_encoded</th>\n",
       "    </tr>\n",
       "  </thead>\n",
       "  <tbody>\n",
       "    <tr>\n",
       "      <th>15005</th>\n",
       "      <td>NaN</td>\n",
       "      <td>3110 4th Street Cir</td>\n",
       "      <td>NaN</td>\n",
       "      <td>NaN</td>\n",
       "      <td>Jacksonville</td>\n",
       "      <td>[{'rating': ['2/10', '2/10', '3/10'], 'data': ...</td>\n",
       "      <td>0</td>\n",
       "      <td>32254</td>\n",
       "      <td>FL</td>\n",
       "      <td>900</td>\n",
       "      <td>False</td>\n",
       "      <td>None</td>\n",
       "      <td>'No Data'</td>\n",
       "      <td>None</td>\n",
       "      <td>'$1'</td>\n",
       "      <td>single_family_home</td>\n",
       "      <td>True</td>\n",
       "      <td>True</td>\n",
       "    </tr>\n",
       "    <tr>\n",
       "      <th>82420</th>\n",
       "      <td>for rent</td>\n",
       "      <td>378 Old Grist Mill Blvd</td>\n",
       "      <td>NaN</td>\n",
       "      <td>NaN</td>\n",
       "      <td>Gray</td>\n",
       "      <td>[{'rating': ['6/10', '8/10'], 'data': {'Distan...</td>\n",
       "      <td>804</td>\n",
       "      <td>37615</td>\n",
       "      <td>TN</td>\n",
       "      <td>900</td>\n",
       "      <td>False</td>\n",
       "      <td>''</td>\n",
       "      <td>'Garage Attached'</td>\n",
       "      <td>''</td>\n",
       "      <td>None</td>\n",
       "      <td>single_family_home</td>\n",
       "      <td>False</td>\n",
       "      <td>False</td>\n",
       "    </tr>\n",
       "    <tr>\n",
       "      <th>115104</th>\n",
       "      <td>for rent</td>\n",
       "      <td>105 Alma Ave</td>\n",
       "      <td>NaN</td>\n",
       "      <td>NaN</td>\n",
       "      <td>Buffalo</td>\n",
       "      <td>[{'rating': ['1/10', '4/10', 'None/10', '5/10'...</td>\n",
       "      <td>1400</td>\n",
       "      <td>14215</td>\n",
       "      <td>NY</td>\n",
       "      <td>900</td>\n",
       "      <td>False</td>\n",
       "      <td>'1920'</td>\n",
       "      <td>''</td>\n",
       "      <td>''</td>\n",
       "      <td>None</td>\n",
       "      <td>multi_family_home</td>\n",
       "      <td>False</td>\n",
       "      <td>False</td>\n",
       "    </tr>\n",
       "  </tbody>\n",
       "</table>\n",
       "</div>"
      ],
      "text/plain": [
       "          status                   street baths fireplace          city  \\\n",
       "15005        NaN      3110 4th Street Cir   NaN       NaN  Jacksonville   \n",
       "82420   for rent  378 Old Grist Mill Blvd   NaN       NaN          Gray   \n",
       "115104  for rent             105 Alma Ave   NaN       NaN       Buffalo   \n",
       "\n",
       "                                                  schools  sqft zipcode state  \\\n",
       "15005   [{'rating': ['2/10', '2/10', '3/10'], 'data': ...     0   32254    FL   \n",
       "82420   [{'rating': ['6/10', '8/10'], 'data': {'Distan...   804   37615    TN   \n",
       "115104  [{'rating': ['1/10', '4/10', 'None/10', '5/10'...  1400   14215    NY   \n",
       "\n",
       "        target  pool_encoded Year built            Parking lotsize Price/sqft  \\\n",
       "15005      900         False       None          'No Data'    None       '$1'   \n",
       "82420      900         False         ''  'Garage Attached'      ''       None   \n",
       "115104     900         False     '1920'                 ''      ''       None   \n",
       "\n",
       "                      Type  Cooling_encoded  Heating_encoded  \n",
       "15005   single_family_home             True             True  \n",
       "82420   single_family_home            False            False  \n",
       "115104   multi_family_home            False            False  "
      ]
     },
     "metadata": {},
     "output_type": "display_data"
    }
   ],
   "source": [
    "display(df2[df2['target'] == df2['target']. min ()].head())"
   ]
  },
  {
   "cell_type": "code",
   "execution_count": 358,
   "metadata": {},
   "outputs": [
    {
     "name": "stdout",
     "output_type": "stream",
     "text": [
      "status: 39238 Пропуски (10.48%)\n",
      "street: 2 Пропуски (0.00%)\n",
      "baths: 105187 Пропуски (28.09%)\n",
      "fireplace: 271899 Пропуски (72.62%)\n"
     ]
    }
   ],
   "source": [
    "missing_data = df2.isnull().sum()\n",
    "missing_columns = missing_data[missing_data > 0]\n",
    "\n",
    "if missing_columns.empty:\n",
    "    print('Пропуски отсутствуют')\n",
    "else:\n",
    "    for column_name in missing_columns.index:\n",
    "        missing_count = missing_columns[column_name]\n",
    "        percentage = (missing_count / len(df2)) * 100\n",
    "        print(f'{column_name}: {missing_count} Пропуски ({percentage:.2f}%)')"
   ]
  },
  {
   "cell_type": "code",
   "execution_count": 359,
   "metadata": {},
   "outputs": [],
   "source": [
    "# удаляем признаки status и baths\n",
    "df2.drop('status', axis=1, inplace=True)\n",
    "df2.drop('baths', axis=1, inplace=True)"
   ]
  },
  {
   "attachments": {},
   "cell_type": "markdown",
   "metadata": {},
   "source": [
    "признак Fireplace"
   ]
  },
  {
   "cell_type": "code",
   "execution_count": 360,
   "metadata": {},
   "outputs": [
    {
     "data": {
      "text/plain": [
       "yes               70624\n",
       "1                 14532\n",
       "2                  2432\n",
       "not applicable     1990\n",
       "fireplace           847\n",
       "3                   563\n",
       "living room         433\n",
       "location            399\n",
       "wood burning        311\n",
       "gas/gas logs        300\n",
       "Name: fireplace, dtype: int64"
      ]
     },
     "execution_count": 360,
     "metadata": {},
     "output_type": "execute_result"
    }
   ],
   "source": [
    "df2['fireplace'].str.lower().value_counts().head(10)"
   ]
  },
  {
   "cell_type": "code",
   "execution_count": 361,
   "metadata": {},
   "outputs": [],
   "source": [
    "df2['fireplace_encoded'] = df1['fireplace'].apply(lambda x: True if x not in ['', 'no data', 'None', 'none', '0', 'not applicable', 'no'] and not pd.isna(x) else False)\n"
   ]
  },
  {
   "cell_type": "code",
   "execution_count": 362,
   "metadata": {},
   "outputs": [],
   "source": [
    "# удаляем признак fireplace\n",
    "df2.drop('fireplace', axis=1, inplace=True)"
   ]
  },
  {
   "attachments": {},
   "cell_type": "markdown",
   "metadata": {},
   "source": [
    "Признак  Street"
   ]
  },
  {
   "cell_type": "code",
   "execution_count": 363,
   "metadata": {},
   "outputs": [
    {
     "name": "stdout",
     "output_type": "stream",
     "text": [
      "Пропущенные значения: 2\n",
      "Пропущенные значения: 0.00%\n",
      "Уникальные значения: 337076\n"
     ]
    }
   ],
   "source": [
    "missing_values_count = df2.street.isna().sum()\n",
    "total_count = len(df)\n",
    "missing_values_percentage = (missing_values_count / total_count) * 100\n",
    "\n",
    "print(f\"Пропущенные значения: {missing_values_count}\\n\"\n",
    "      f\"Пропущенные значения: {missing_values_percentage:.2f}%\\n\"\n",
    "      f\"Уникальные значения: {df.street.nunique()}\")"
   ]
  },
  {
   "cell_type": "code",
   "execution_count": 364,
   "metadata": {},
   "outputs": [],
   "source": [
    "# удаляем строки, где есть пропуски в столбце street\n",
    "df2 = df2.dropna(subset=['street'])"
   ]
  },
  {
   "cell_type": "code",
   "execution_count": 365,
   "metadata": {},
   "outputs": [],
   "source": [
    "df3=df2.copy()"
   ]
  },
  {
   "cell_type": "code",
   "execution_count": 366,
   "metadata": {},
   "outputs": [
    {
     "name": "stdout",
     "output_type": "stream",
     "text": [
      "Пропуски отсутствуют\n"
     ]
    }
   ],
   "source": [
    "missing_data = df3.isnull().sum()\n",
    "missing_columns = missing_data[missing_data > 0]\n",
    "\n",
    "if missing_columns.empty:\n",
    "    print('Пропуски отсутствуют')\n",
    "else:\n",
    "    for column_name in missing_columns.index:\n",
    "        missing_count = missing_columns[column_name]\n",
    "        percentage = (missing_count / len(df2)) * 100\n",
    "        print(f'{column_name}: {missing_count} Пропуски ({percentage:.2f}%)')"
   ]
  },
  {
   "cell_type": "code",
   "execution_count": 367,
   "metadata": {},
   "outputs": [
    {
     "data": {
      "text/plain": [
       "42"
      ]
     },
     "execution_count": 367,
     "metadata": {},
     "output_type": "execute_result"
    }
   ],
   "source": [
    "df3.duplicated().sum() "
   ]
  },
  {
   "cell_type": "code",
   "execution_count": 368,
   "metadata": {},
   "outputs": [],
   "source": [
    "# Удаляем дубликаты\n",
    "df3 = df3.drop_duplicates(ignore_index=True)"
   ]
  }
 ],
 "metadata": {
  "kernelspec": {
   "display_name": "Python 3",
   "language": "python",
   "name": "python3"
  },
  "language_info": {
   "codemirror_mode": {
    "name": "ipython",
    "version": 3
   },
   "file_extension": ".py",
   "mimetype": "text/x-python",
   "name": "python",
   "nbconvert_exporter": "python",
   "pygments_lexer": "ipython3",
   "version": "3.9.10"
  },
  "orig_nbformat": 4,
  "vscode": {
   "interpreter": {
    "hash": "aee8b7b246df8f9039afb4144a1f6fd8d2ca17a180786b69acc140d282b71a49"
   }
  }
 },
 "nbformat": 4,
 "nbformat_minor": 2
}
