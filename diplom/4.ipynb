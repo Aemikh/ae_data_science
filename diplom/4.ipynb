{
 "cells": [
  {
   "attachments": {},
   "cell_type": "markdown",
   "metadata": {},
   "source": [
    "## «Модель прогнозирования стоимости жилья для агентства недвижимости»\n",
    "\n",
    "# Дипломный проект\n",
    "\n",
    "Data Science\n",
    "\n",
    "Описание данных:\n",
    "\n",
    "'status' — статус продажи; 'private pool' и 'PrivatePool' — наличие собственного бассейна; 'propertyType' — тип объекта недвижимости; 'street' — адрес объекта; 'baths' — количество ванных комнат; 'homeFacts' — сведения о строительстве объекта (содержит несколько типов сведений, влияющих на оценку объекта);\n",
    "\n",
    "'fireplace' — наличие камина; 'city' — город; 'schools' — сведения о школах в районе; 'sqft' — площадь в футах; 'zipcode' — почтовый индекс; 'beds' — количество спален; 'state' — штат; 'stories' — количество этажей; 'mls-id' и 'MlsId' — идентификатор MLS (Multiple Listing Service, система мультилистинга);\n",
    "\n",
    "target' — цена объекта недвижимости (целевой признак, который необходимо спрогнозировать)."
   ]
  },
  {
   "cell_type": "code",
   "execution_count": 74,
   "metadata": {},
   "outputs": [],
   "source": [
    "import numpy as np \n",
    "import pandas as pd \n",
    "import pickle\n",
    "import warnings\n",
    "warnings.filterwarnings(\"ignore\")"
   ]
  },
  {
   "cell_type": "code",
   "execution_count": 75,
   "metadata": {},
   "outputs": [],
   "source": [
    "# Загрузка сохраненной модели из файла pickle\n",
    "with open(\"best_model.pkl\", \"rb\") as f:\n",
    "    loaded_model = pickle.load(f)"
   ]
  },
  {
   "attachments": {},
   "cell_type": "markdown",
   "metadata": {},
   "source": [
    "Подгружаем обученную модель RandomForestRegressor"
   ]
  },
  {
   "cell_type": "code",
   "execution_count": 76,
   "metadata": {},
   "outputs": [
    {
     "data": {
      "text/html": [
       "<div>\n",
       "<style scoped>\n",
       "    .dataframe tbody tr th:only-of-type {\n",
       "        vertical-align: middle;\n",
       "    }\n",
       "\n",
       "    .dataframe tbody tr th {\n",
       "        vertical-align: top;\n",
       "    }\n",
       "\n",
       "    .dataframe thead th {\n",
       "        text-align: right;\n",
       "    }\n",
       "</style>\n",
       "<table border=\"1\" class=\"dataframe\">\n",
       "  <thead>\n",
       "    <tr style=\"text-align: right;\">\n",
       "      <th></th>\n",
       "      <th>status</th>\n",
       "      <th>baths</th>\n",
       "      <th>city</th>\n",
       "      <th>sqft</th>\n",
       "      <th>zipcode</th>\n",
       "      <th>state</th>\n",
       "      <th>pool_encoded</th>\n",
       "      <th>Year built</th>\n",
       "      <th>Type</th>\n",
       "    </tr>\n",
       "  </thead>\n",
       "  <tbody>\n",
       "    <tr>\n",
       "      <th>0</th>\n",
       "      <td>Active</td>\n",
       "      <td>3.0</td>\n",
       "      <td>Washington</td>\n",
       "      <td>801</td>\n",
       "      <td>20004</td>\n",
       "      <td>DC</td>\n",
       "      <td>False</td>\n",
       "      <td>1991</td>\n",
       "      <td>other</td>\n",
       "    </tr>\n",
       "    <tr>\n",
       "      <th>1</th>\n",
       "      <td>Active</td>\n",
       "      <td>2.0</td>\n",
       "      <td>Dallas</td>\n",
       "      <td>832</td>\n",
       "      <td>75219</td>\n",
       "      <td>TX</td>\n",
       "      <td>False</td>\n",
       "      <td>1998</td>\n",
       "      <td>condo</td>\n",
       "    </tr>\n",
       "    <tr>\n",
       "      <th>2</th>\n",
       "      <td>Active</td>\n",
       "      <td>4.0</td>\n",
       "      <td>Dallas</td>\n",
       "      <td>2102</td>\n",
       "      <td>75219</td>\n",
       "      <td>TX</td>\n",
       "      <td>False</td>\n",
       "      <td>2019</td>\n",
       "      <td>condo</td>\n",
       "    </tr>\n",
       "    <tr>\n",
       "      <th>3</th>\n",
       "      <td>Active</td>\n",
       "      <td>2.0</td>\n",
       "      <td>Dallas</td>\n",
       "      <td>837</td>\n",
       "      <td>75219</td>\n",
       "      <td>TX</td>\n",
       "      <td>False</td>\n",
       "      <td>1998</td>\n",
       "      <td>condo</td>\n",
       "    </tr>\n",
       "    <tr>\n",
       "      <th>4</th>\n",
       "      <td>Active</td>\n",
       "      <td>2.0</td>\n",
       "      <td>Dallas</td>\n",
       "      <td>2785</td>\n",
       "      <td>75219</td>\n",
       "      <td>TX</td>\n",
       "      <td>False</td>\n",
       "      <td>2015</td>\n",
       "      <td>condo</td>\n",
       "    </tr>\n",
       "  </tbody>\n",
       "</table>\n",
       "</div>"
      ],
      "text/plain": [
       "   status  baths        city  sqft  zipcode state  pool_encoded  Year built  \\\n",
       "0  Active    3.0  Washington   801    20004    DC         False        1991   \n",
       "1  Active    2.0      Dallas   832    75219    TX         False        1998   \n",
       "2  Active    4.0      Dallas  2102    75219    TX         False        2019   \n",
       "3  Active    2.0      Dallas   837    75219    TX         False        1998   \n",
       "4  Active    2.0      Dallas  2785    75219    TX         False        2015   \n",
       "\n",
       "    Type  \n",
       "0  other  \n",
       "1  condo  \n",
       "2  condo  \n",
       "3  condo  \n",
       "4  condo  "
      ]
     },
     "execution_count": 76,
     "metadata": {},
     "output_type": "execute_result"
    }
   ],
   "source": [
    "data = [\n",
    "    ('Active', 3.0, 'Washington', 801, 20004, 'DC',  False, 1991,'other'),\n",
    "    ('Active', 2.0, 'Dallas', 832, 75219, 'TX',  False, 1998, 'condo'),\n",
    "    ('Active', 4.0, 'Dallas', 2102, 75219, 'TX',  False, 2019, 'condo'),\n",
    "    ('Active', 2.0, 'Dallas', 837, 75219, 'TX',  False, 1998, 'condo'),\n",
    "    ('Active', 2.0, 'Dallas', 2785, 75219, 'TX',  False, 2015, 'condo')\n",
    "]\n",
    "\n",
    "columns = ['status', 'baths', 'city', 'sqft', 'zipcode', 'state',  'pool_encoded', 'Year built', 'Type']\n",
    "\n",
    "df_test = pd.DataFrame(data, columns=columns)\n",
    "\n",
    "df_test.head()"
   ]
  },
  {
   "attachments": {},
   "cell_type": "markdown",
   "metadata": {},
   "source": [
    "Функция для предсказания стоимости недвижимости по входным параметрам"
   ]
  },
  {
   "cell_type": "code",
   "execution_count": 77,
   "metadata": {},
   "outputs": [],
   "source": [
    "# функция принимает датасет и модель, затем обрабатывет \n",
    "# датасет и передает его в модель для получения предсказания, предсказание выводится в нормальном виде\n",
    "def preprocess_and_predict(df_input, model):\n",
    "    \n",
    "    def log_data(df_input):\n",
    "        df_output = df_input.copy()\n",
    "        df_output['zipcode'] = df_output['zipcode'].astype(str)\n",
    "        df_output['Year built'] = df_output['Year built'].astype(str)\n",
    "     \n",
    "        \n",
    "        #scaler = MinMaxScaler()\n",
    "        for column in ['baths', 'sqft']:\n",
    "            #df_output[column] = scaler.fit_transform(df_output[[column]])[:,0]\n",
    "            df_output[column] = df_output[column].apply(lambda x: abs(x))\n",
    "            constant = 1e-6\n",
    "            df_output[column] = np.log(df_output[column] + constant)\n",
    "        return df_output\n",
    "\n",
    "    X_test = log_data(df_input)\n",
    "    y_test_pred_loaded = model.predict(X_test)\n",
    "    target = np.exp(y_test_pred_loaded)\n",
    "    rounded_target = np.round(target)\n",
    "    print(rounded_target)\n",
    "    \n",
    "    return rounded_target"
   ]
  },
  {
   "attachments": {},
   "cell_type": "markdown",
   "metadata": {},
   "source": [
    "тест на воспроизводимость"
   ]
  },
  {
   "cell_type": "code",
   "execution_count": null,
   "metadata": {},
   "outputs": [],
   "source": [
    "predictions = preprocess_and_predict(df_test, loaded_model)"
   ]
  },
  {
   "cell_type": "code",
   "execution_count": 78,
   "metadata": {},
   "outputs": [
    {
     "name": "stdout",
     "output_type": "stream",
     "text": [
      "Note: you may need to restart the kernel to use updated packages.\n"
     ]
    }
   ],
   "source": [
    "#pip freeze > requirements.txt"
   ]
  }
 ],
 "metadata": {
  "kernelspec": {
   "display_name": "Python 3",
   "language": "python",
   "name": "python3"
  },
  "language_info": {
   "codemirror_mode": {
    "name": "ipython",
    "version": 3
   },
   "file_extension": ".py",
   "mimetype": "text/x-python",
   "name": "python",
   "nbconvert_exporter": "python",
   "pygments_lexer": "ipython3",
   "version": "3.9.10"
  },
  "orig_nbformat": 4,
  "vscode": {
   "interpreter": {
    "hash": "aee8b7b246df8f9039afb4144a1f6fd8d2ca17a180786b69acc140d282b71a49"
   }
  }
 },
 "nbformat": 4,
 "nbformat_minor": 2
}
